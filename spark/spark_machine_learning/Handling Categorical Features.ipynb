{
 "cells": [
  {
   "cell_type": "code",
   "execution_count": 28,
   "metadata": {},
   "outputs": [],
   "source": [
    "from pyspark import SparkContext\n",
    "from pyspark.sql import SparkSession\n",
    "from pyspark.ml.feature import OneHotEncoder, StringIndexer"
   ]
  },
  {
   "cell_type": "code",
   "execution_count": 29,
   "metadata": {},
   "outputs": [],
   "source": [
    "spark = SparkSession.Builder().getOrCreate()"
   ]
  },
  {
   "cell_type": "code",
   "execution_count": 30,
   "metadata": {},
   "outputs": [],
   "source": [
    "catDF = spark.createDataFrame([\n",
    "    (0, \"Moscow\"),\n",
    "    (1, \"New York\"),\n",
    "    (2, \"Beijing\"),\n",
    "    (3, \"New York\"),\n",
    "    (4, \"Paris\"),\n",
    "    (5, \"Paris\"),\n",
    "    (6, \"New York\"),\n",
    "    (7, \"Beijing\")],\n",
    "    [\"row_id\", \"city\"])"
   ]
  },
  {
   "cell_type": "code",
   "execution_count": 31,
   "metadata": {},
   "outputs": [
    {
     "name": "stdout",
     "output_type": "stream",
     "text": [
      "+------+--------+\n",
      "|row_id|    city|\n",
      "+------+--------+\n",
      "|     0|  Moscow|\n",
      "|     1|New York|\n",
      "|     2| Beijing|\n",
      "|     3|New York|\n",
      "|     4|   Paris|\n",
      "|     5|   Paris|\n",
      "|     6|New York|\n",
      "|     7| Beijing|\n",
      "+------+--------+\n",
      "\n"
     ]
    }
   ],
   "source": [
    "catDF.show()"
   ]
  },
  {
   "cell_type": "code",
   "execution_count": 32,
   "metadata": {},
   "outputs": [],
   "source": [
    "indexer = StringIndexer(inputCol=\"city\", outputCol=\"index\")\n",
    "indexer = indexer.fit(catDF)\n",
    "indexer = indexer.transform(catDF)"
   ]
  },
  {
   "cell_type": "code",
   "execution_count": 33,
   "metadata": {},
   "outputs": [
    {
     "name": "stdout",
     "output_type": "stream",
     "text": [
      "+------+--------+-----+\n",
      "|row_id|    city|index|\n",
      "+------+--------+-----+\n",
      "|     0|  Moscow|  3.0|\n",
      "|     1|New York|  0.0|\n",
      "|     2| Beijing|  1.0|\n",
      "|     3|New York|  0.0|\n",
      "|     4|   Paris|  2.0|\n",
      "|     5|   Paris|  2.0|\n",
      "|     6|New York|  0.0|\n",
      "|     7| Beijing|  1.0|\n",
      "+------+--------+-----+\n",
      "\n"
     ]
    }
   ],
   "source": [
    "indexer.show()"
   ]
  },
  {
   "cell_type": "code",
   "execution_count": 34,
   "metadata": {},
   "outputs": [],
   "source": [
    "encoder = OneHotEncoder(inputCol=\"index\", outputCol=\"encoding\")\n",
    "encoder.setDropLast(False)\n",
    "encoder = encoder.fit(indexer)\n",
    "indexer = encoder.transform(indexer)"
   ]
  },
  {
   "cell_type": "code",
   "execution_count": 35,
   "metadata": {},
   "outputs": [
    {
     "name": "stdout",
     "output_type": "stream",
     "text": [
      "+------+--------+-----+-------------+\n",
      "|row_id|    city|index|     encoding|\n",
      "+------+--------+-----+-------------+\n",
      "|     0|  Moscow|  3.0|(4,[3],[1.0])|\n",
      "|     1|New York|  0.0|(4,[0],[1.0])|\n",
      "|     2| Beijing|  1.0|(4,[1],[1.0])|\n",
      "|     3|New York|  0.0|(4,[0],[1.0])|\n",
      "|     4|   Paris|  2.0|(4,[2],[1.0])|\n",
      "|     5|   Paris|  2.0|(4,[2],[1.0])|\n",
      "|     6|New York|  0.0|(4,[0],[1.0])|\n",
      "|     7| Beijing|  1.0|(4,[1],[1.0])|\n",
      "+------+--------+-----+-------------+\n",
      "\n"
     ]
    }
   ],
   "source": [
    "indexer.show()"
   ]
  }
 ],
 "metadata": {
  "kernelspec": {
   "display_name": "Python 3",
   "language": "python",
   "name": "python3"
  }
 },
 "nbformat": 4,
 "nbformat_minor": 2
}
