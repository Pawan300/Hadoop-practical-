{
 "cells": [
  {
   "cell_type": "markdown",
   "metadata": {},
   "source": [
    "# This notebook about the assigmnet 2.<br>\n",
    "It consists of 4 solutions."
   ]
  },
  {
   "cell_type": "markdown",
   "metadata": {},
   "source": [
    "### Section 1: Environment setup and data loading.\n",
    "* Done (make a account and load data -> code in the loading_dataset.ipynb file)"
   ]
  },
  {
   "cell_type": "markdown",
   "metadata": {},
   "source": [
    "### Section 2: Analyzing the data model.\n",
    "Question : <br>\n",
    "\n",
    "1. Due to some changes in the business processes and market forces, the company has decided to change the categories of various products. Your manager has asked you to analyse the impact on the database. Specifically, he is concerned if existing orders will be impacted. He is also worried about what impact it may have on the downstream data warehouse.\n",
    "\n",
    "  a. Please go through the ER diagram (northwind-er-relationship.png), understand the relationships between the entities\n",
    "\n",
    "  b. Identify the entities/attributes that will be impacted.\n",
    "\n",
    "  c. Answer your manager’s question regarding rows in the order table and the downstream data warehouse."
   ]
  },
  {
   "cell_type": "markdown",
   "metadata": {},
   "source": [
    "Solution : \n",
    "\n",
    "Suppose we are deciding to change the categories of the various products, then it will have their impact on the database and real life scenario as well.<br>\n",
    "\n",
    "* How on Database : <br>\n",
    "   - If the values of categories changes then categoryID inherited by Products table can cause some error, because our database generally follows referential intergrity constraints.\n",
    "* How on sales : <br>\n",
    "   - In the sales point of view it might have their impact on the sales because let's suppose we have a comb and we catergorise that as a plastic product and we sale them accordingly but now if we change it into cosmetic product which looks best fit for the product, So chances of sales is high."
   ]
  },
  {
   "cell_type": "markdown",
   "metadata": {},
   "source": [
    "### Section 3: Working with data using Spark SQL.\n",
    "\n",
    "Question : <br>\n",
    "\n",
    "1. For this task you must use Spark SQL and create a separate dataframe for each of the below tasks: <br>\n",
    "\n",
    "   a. By mistake some data has been duplicated in the product table and is causing issues with order reconciliation. You have been asked to     check the data and remove the duplicates. Create a dataframe (using Spark SQL) contained de-duped rows from theproduct table."
   ]
  },
  {
   "cell_type": "code",
   "execution_count": 6,
   "metadata": {},
   "outputs": [
    {
     "data": {
      "text/html": [
       "<style scoped>\n",
       "  .table-result-container {\n",
       "    max-height: 300px;\n",
       "    overflow: auto;\n",
       "  }\n",
       "  table, th, td {\n",
       "    border: 1px solid black;\n",
       "    border-collapse: collapse;\n",
       "  }\n",
       "  th, td {\n",
       "    padding: 5px;\n",
       "  }\n",
       "  th {\n",
       "    text-align: left;\n",
       "  }\n",
       "</style><div class='table-result-container'><table class='table-result'><thead style='background-color: white'><tr><th>ProductID</th><th>ProductName</th><th>count(1)</th></tr></thead><tbody><tr><td>61</td><td>Sirop d'érable</td><td>2</td></tr><tr><td>56</td><td>Gnocchi di nonna Alice</td><td>2</td></tr><tr><td>70</td><td>Outback Lager</td><td>2</td></tr><tr><td>3</td><td>Aniseed Syrup</td><td>2</td></tr><tr><td>41</td><td>Jack's New England Clam Chowder</td><td>2</td></tr></tbody></table></div>"
      ]
     },
     "metadata": {},
     "output_type": "display_data"
    }
   ],
   "source": [
    "%sql\n",
    "select p.ProductID, p.ProductName, count(*)\n",
    "from products_csv as p\n",
    "group by p.ProductName, p.ProductID\n",
    "having count(*)>1;"
   ]
  },
  {
   "cell_type": "markdown",
   "metadata": {},
   "source": [
    "b. The company wants to recognize employees who are doing a great job pushing more orders. Create a dataframe of employees (display their Id, Name) and their total sales. Filter out only employees that have sold more than 70 products. Order the employees in descending order of sales.<br>\n",
    "\n",
    "    i. Sales Amount needs to be calculated based on ordered quantity, unit price and discount."
   ]
  },
  {
   "cell_type": "code",
   "execution_count": 8,
   "metadata": {},
   "outputs": [
    {
     "data": {
      "text/html": [
       "<style scoped>\n",
       "  .table-result-container {\n",
       "    max-height: 300px;\n",
       "    overflow: auto;\n",
       "  }\n",
       "  table, th, td {\n",
       "    border: 1px solid black;\n",
       "    border-collapse: collapse;\n",
       "  }\n",
       "  th, td {\n",
       "    padding: 5px;\n",
       "  }\n",
       "  th {\n",
       "    text-align: left;\n",
       "  }\n",
       "</style><div class='table-result-container'><table class='table-result'><thead style='background-color: white'><tr><th>FirstName</th><th>LastName</th><th>EmployeeID</th><th>sales</th></tr></thead><tbody><tr><td>Margaret</td><td>Peacock</td><td>4</td><td>250174.79180101003</td></tr><tr><td>Janet</td><td>Leverling</td><td>3</td><td>213043.94145117846</td></tr><tr><td>Nancy</td><td>Davolio</td><td>1</td><td>202132.88312733785</td></tr><tr><td>Andrew</td><td>Fuller</td><td>2</td><td>177744.18629881673</td></tr><tr><td>Robert</td><td>King</td><td>7</td><td>141290.57678761</td></tr><tr><td>Laura</td><td>Callahan</td><td>8</td><td>133292.17817489768</td></tr></tbody></table></div>"
      ]
     },
     "metadata": {},
     "output_type": "display_data"
    }
   ],
   "source": [
    "%sql\n",
    "select emp.FirstName, emp.LastName, emp.EmployeeID, sale.sales\n",
    "from employees_csv as emp inner join \n",
    "(  select e.EmployeeID, sum(temp.price) as sales\n",
    "   from orders_csv as e inner join\n",
    "      ( select OrderID, sum(UnitPrice * Quantity - Discount/ (UnitPrice * Quantity) *100)  as price from order_details_csv \n",
    "        group by OrderID\n",
    "      ) as temp\n",
    "      on temp.OrderID=e.OrderID\n",
    "      group by e.EmployeeID\n",
    "      having count(*)>70\n",
    ") as sale \n",
    "  on sale.EmployeeID= emp.EmployeeID\n",
    "  order by sale.sales desc;"
   ]
  },
  {
   "cell_type": "markdown",
   "metadata": {},
   "source": [
    "### Section 4: Working with data using Spark API.\n",
    "Question :\n",
    "\n",
    "1. For this task you must use Spark API and create a separate dataframe for each of the below tasks: <br>\n",
    "\n",
    "    a. Some customer orders are not getting processed and are getting delayed due to insufficient stock. Your manager asks you to identify the suppliers who supply the  products that have insufficient stock. Create the necessary dataframes for your analysis. The final dataframe should have a record for each product (that is out of stock) and an array of Supplier names that supply the product."
   ]
  },
  {
   "cell_type": "code",
   "execution_count": 10,
   "metadata": {},
   "outputs": [
    {
     "data": {
      "text/html": [
       "<style scoped>\n",
       "  .table-result-container {\n",
       "    max-height: 300px;\n",
       "    overflow: auto;\n",
       "  }\n",
       "  table, th, td {\n",
       "    border: 1px solid black;\n",
       "    border-collapse: collapse;\n",
       "  }\n",
       "  th, td {\n",
       "    padding: 5px;\n",
       "  }\n",
       "  th {\n",
       "    text-align: left;\n",
       "  }\n",
       "</style><div class='table-result-container'><table class='table-result'><thead style='background-color: white'><tr><th>SupplierID</th><th>SupplierName</th><th>ProductID</th><th>ProductName</th></tr></thead><tbody><tr><td>2</td><td>Shelley Burke</td><td>5</td><td>Chef Anton's Gumbo Mix</td></tr><tr><td>7</td><td> Ltd.</td><td>17</td><td>Alice Mutton</td></tr><tr><td>12</td><td>Martin Bein</td><td>29</td><td>Thüringer Rostbratwurst</td></tr><tr><td>14</td><td>Elio Rossi</td><td>31</td><td>Gorgonzola Telino</td></tr><tr><td>24</td><td> Mate</td><td>53</td><td>Perth Pasties</td></tr></tbody></table></div>"
      ]
     },
     "metadata": {},
     "output_type": "display_data"
    }
   ],
   "source": [
    "%sql\n",
    "select p.SupplierID, s.ContactName as SupplierName, p.ProductID, p.ProductName\n",
    "from products_csv as p inner join suppliers_csv as s\n",
    "on p.SupplierID=s.SupplierID\n",
    "where p.UnitsInStock=0;"
   ]
  },
  {
   "cell_type": "code",
   "execution_count": 11,
   "metadata": {},
   "outputs": [
    {
     "data": {
      "text/html": [
       "<style scoped>\n",
       "  .ansiout {\n",
       "    display: block;\n",
       "    unicode-bidi: embed;\n",
       "    white-space: pre-wrap;\n",
       "    word-wrap: break-word;\n",
       "    word-break: break-all;\n",
       "    font-family: \"Source Code Pro\", \"Menlo\", monospace;;\n",
       "    font-size: 13px;\n",
       "    color: #555;\n",
       "    margin-left: 4px;\n",
       "    line-height: 19px;\n",
       "  }\n",
       "</style>\n",
       "<div class=\"ansiout\"></div>"
      ]
     },
     "metadata": {},
     "output_type": "display_data"
    }
   ],
   "source": [
    "from pyspark.sql import SQLContext\n",
    "\n",
    "file_location = \"/FileStore/tables/suppliers.csv\"\n",
    "file_type = \"csv\"\n",
    "\n",
    "# CSV options\n",
    "infer_schema = \"false\"\n",
    "first_row_is_header = \"True\"\n",
    "delimiter = \",\"\n",
    "\n",
    "# The applied options are for CSV files. For other file types, these will be ignored.\n",
    "suppliers = spark.read.format(file_type) \\\n",
    "  .option(\"inferSchema\", infer_schema) \\\n",
    "  .option(\"header\", first_row_is_header) \\\n",
    "  .option(\"sep\", delimiter) \\\n",
    "  .load(file_location)\n",
    "\n",
    "file_location = \"/FileStore/tables/products.csv\"\n",
    "file_type = \"csv\"\n",
    "\n",
    "# CSV options\n",
    "infer_schema = \"false\"\n",
    "first_row_is_header = \"True\"\n",
    "delimiter = \",\"\n",
    "\n",
    "# The applied options are for CSV files. For other file types, these will be ignored.\n",
    "products = spark.read.format(file_type) \\\n",
    "  .option(\"inferSchema\", infer_schema) \\\n",
    "  .option(\"header\", first_row_is_header) \\\n",
    "  .option(\"sep\", delimiter) \\\n",
    "  .load(file_location)"
   ]
  },
  {
   "cell_type": "code",
   "execution_count": 12,
   "metadata": {},
   "outputs": [
    {
     "data": {
      "text/html": [
       "<div>\n",
       "<style scoped>\n",
       "    .dataframe tbody tr th:only-of-type {\n",
       "        vertical-align: middle;\n",
       "    }\n",
       "\n",
       "    .dataframe tbody tr th {\n",
       "        vertical-align: top;\n",
       "    }\n",
       "\n",
       "    .dataframe thead th {\n",
       "        text-align: right;\n",
       "    }\n",
       "</style>\n",
       "<table border=\"1\" class=\"dataframe\">\n",
       "  <thead>\n",
       "    <tr style=\"text-align: right;\">\n",
       "      <th></th>\n",
       "      <th>SupplierID</th>\n",
       "      <th>CompanyName</th>\n",
       "      <th>ContactName</th>\n",
       "      <th>ContactTitle</th>\n",
       "      <th>Address</th>\n",
       "      <th>City</th>\n",
       "      <th>Region</th>\n",
       "      <th>PostalCode</th>\n",
       "      <th>Country</th>\n",
       "      <th>Phone</th>\n",
       "      <th>Fax</th>\n",
       "      <th>HomePage</th>\n",
       "    </tr>\n",
       "  </thead>\n",
       "  <tbody>\n",
       "    <tr>\n",
       "      <th>0</th>\n",
       "      <td>1</td>\n",
       "      <td>Exotic Liquids</td>\n",
       "      <td>Charlotte Cooper</td>\n",
       "      <td>Purchasing Manager</td>\n",
       "      <td>49 Gilbert St.</td>\n",
       "      <td>London</td>\n",
       "      <td>NULL</td>\n",
       "      <td>EC1 4SD</td>\n",
       "      <td>UK</td>\n",
       "      <td>(171) 555-2222</td>\n",
       "      <td>NULL</td>\n",
       "      <td>NULL</td>\n",
       "    </tr>\n",
       "    <tr>\n",
       "      <th>1</th>\n",
       "      <td>2</td>\n",
       "      <td>New Orleans Cajun Delights</td>\n",
       "      <td>Shelley Burke</td>\n",
       "      <td>Order Administrator</td>\n",
       "      <td>P.O. Box 78934</td>\n",
       "      <td>New Orleans</td>\n",
       "      <td>LA</td>\n",
       "      <td>70117</td>\n",
       "      <td>USA</td>\n",
       "      <td>(100) 555-4822</td>\n",
       "      <td>NULL</td>\n",
       "      <td>#CAJUN.HTM#</td>\n",
       "    </tr>\n",
       "    <tr>\n",
       "      <th>2</th>\n",
       "      <td>3</td>\n",
       "      <td>Grandma Kelly's Homestead</td>\n",
       "      <td>Regina Murphy</td>\n",
       "      <td>Sales Representative</td>\n",
       "      <td>707 Oxford Rd.</td>\n",
       "      <td>Ann Arbor</td>\n",
       "      <td>MI</td>\n",
       "      <td>48104</td>\n",
       "      <td>USA</td>\n",
       "      <td>(313) 555-5735</td>\n",
       "      <td>(313) 555-3349</td>\n",
       "      <td>NULL</td>\n",
       "    </tr>\n",
       "    <tr>\n",
       "      <th>3</th>\n",
       "      <td>4</td>\n",
       "      <td>Tokyo Traders</td>\n",
       "      <td>Yoshi Nagase</td>\n",
       "      <td>Marketing Manager</td>\n",
       "      <td>9-8 Sekimai Musashino-shi</td>\n",
       "      <td>Tokyo</td>\n",
       "      <td>NULL</td>\n",
       "      <td>100</td>\n",
       "      <td>Japan</td>\n",
       "      <td>(03) 3555-5011</td>\n",
       "      <td>NULL</td>\n",
       "      <td>NULL</td>\n",
       "    </tr>\n",
       "    <tr>\n",
       "      <th>4</th>\n",
       "      <td>5</td>\n",
       "      <td>Cooperativa de Quesos 'Las Cabras'</td>\n",
       "      <td>Antonio del Valle Saavedra</td>\n",
       "      <td>Export Administrator</td>\n",
       "      <td>Calle del Rosal 4</td>\n",
       "      <td>Oviedo</td>\n",
       "      <td>Asturias</td>\n",
       "      <td>33007</td>\n",
       "      <td>Spain</td>\n",
       "      <td>(98) 598 76 54</td>\n",
       "      <td>NULL</td>\n",
       "      <td>NULL</td>\n",
       "    </tr>\n",
       "  </tbody>\n",
       "</table>\n",
       "</div>"
      ]
     },
     "metadata": {},
     "output_type": "display_data"
    }
   ],
   "source": [
    "suppliers.toPandas().head()"
   ]
  },
  {
   "cell_type": "code",
   "execution_count": 13,
   "metadata": {},
   "outputs": [
    {
     "data": {
      "text/html": [
       "<style scoped>\n",
       "  .ansiout {\n",
       "    display: block;\n",
       "    unicode-bidi: embed;\n",
       "    white-space: pre-wrap;\n",
       "    word-wrap: break-word;\n",
       "    word-break: break-all;\n",
       "    font-family: \"Source Code Pro\", \"Menlo\", monospace;;\n",
       "    font-size: 13px;\n",
       "    color: #555;\n",
       "    margin-left: 4px;\n",
       "    line-height: 19px;\n",
       "  }\n",
       "</style>\n",
       "<div class=\"ansiout\">+---------+--------------------+----------+----------+-------------------+---------+------------+------------+------------+------------+\n",
       "ProductID|         ProductName|SupplierID|CategoryID|    QuantityPerUnit|UnitPrice|UnitsInStock|UnitsOnOrder|ReorderLevel|Discontinued|\n",
       "+---------+--------------------+----------+----------+-------------------+---------+------------+------------+------------+------------+\n",
       "        1|                Chai|         1|         1| 10 boxes x 20 bags|       18|          39|           0|          10|           0|\n",
       "        2|               Chang|         1|         1| 24 - 12 oz bottles|       19|          17|          40|          25|           0|\n",
       "        3|       Aniseed Syrup|         1|         2|12 - 550 ml bottles|       10|          13|          70|          25|           0|\n",
       "        4|Chef Anton&#39;s Caju...|         2|         2|     48 - 6 oz jars|       22|          53|           0|           0|           0|\n",
       "        5|Chef Anton&#39;s Gumb...|         2|         2|           36 boxes|    21.35|           0|           0|           0|           1|\n",
       "+---------+--------------------+----------+----------+-------------------+---------+------------+------------+------------+------------+\n",
       "only showing top 5 rows\n",
       "\n",
       "</div>"
      ]
     },
     "metadata": {},
     "output_type": "display_data"
    }
   ],
   "source": [
    "products.show(5)"
   ]
  },
  {
   "cell_type": "code",
   "execution_count": 14,
   "metadata": {},
   "outputs": [
    {
     "data": {
      "text/html": [
       "<style scoped>\n",
       "  .ansiout {\n",
       "    display: block;\n",
       "    unicode-bidi: embed;\n",
       "    white-space: pre-wrap;\n",
       "    word-wrap: break-word;\n",
       "    word-break: break-all;\n",
       "    font-family: \"Source Code Pro\", \"Menlo\", monospace;;\n",
       "    font-size: 13px;\n",
       "    color: #555;\n",
       "    margin-left: 4px;\n",
       "    line-height: 19px;\n",
       "  }\n",
       "</style>\n",
       "<div class=\"ansiout\"></div>"
      ]
     },
     "metadata": {},
     "output_type": "display_data"
    }
   ],
   "source": [
    "supplier_with_zero_stock = products[products[\"UnitsInStock\"]==0][\"ProductID\", \"ProductName\", \"SupplierID\"]\n",
    "final_suppliers = suppliers.join(supplier_with_zero_stock, on=\"SupplierID\")[\"SupplierID\", \"ContactName\",\"ProductID\", \"ProductName\"]"
   ]
  },
  {
   "cell_type": "code",
   "execution_count": 15,
   "metadata": {},
   "outputs": [
    {
     "data": {
      "text/html": [
       "<style scoped>\n",
       "  .ansiout {\n",
       "    display: block;\n",
       "    unicode-bidi: embed;\n",
       "    white-space: pre-wrap;\n",
       "    word-wrap: break-word;\n",
       "    word-break: break-all;\n",
       "    font-family: \"Source Code Pro\", \"Menlo\", monospace;;\n",
       "    font-size: 13px;\n",
       "    color: #555;\n",
       "    margin-left: 4px;\n",
       "    line-height: 19px;\n",
       "  }\n",
       "</style>\n",
       "<div class=\"ansiout\">+----------+-------------+---------+--------------------+\n",
       "SupplierID|  ContactName|ProductID|         ProductName|\n",
       "+----------+-------------+---------+--------------------+\n",
       "         2|Shelley Burke|        5|Chef Anton&#39;s Gumb...|\n",
       "         7|         Ltd.|       17|        Alice Mutton|\n",
       "        12|  Martin Bein|       29|Thüringer Rostbra...|\n",
       "        14|   Elio Rossi|       31|   Gorgonzola Telino|\n",
       "        24|         Mate|       53|       Perth Pasties|\n",
       "+----------+-------------+---------+--------------------+\n",
       "\n",
       "</div>"
      ]
     },
     "metadata": {},
     "output_type": "display_data"
    }
   ],
   "source": [
    "final_suppliers.show()"
   ]
  },
  {
   "cell_type": "markdown",
   "metadata": {},
   "source": [
    "Question : <br>\n",
    "b. Your manager has asked you to identify our most valuable customers. You asked him how do you define the most valuable customers. He suggested a couple of different approaches – by the number of orders, by total order value. He believes that the both approaches should give similar results. Create the top 10 customers based on both approaches and verify how many common customers are present."
   ]
  },
  {
   "cell_type": "code",
   "execution_count": 17,
   "metadata": {},
   "outputs": [
    {
     "data": {
      "text/html": [
       "<style scoped>\n",
       "  .ansiout {\n",
       "    display: block;\n",
       "    unicode-bidi: embed;\n",
       "    white-space: pre-wrap;\n",
       "    word-wrap: break-word;\n",
       "    word-break: break-all;\n",
       "    font-family: \"Source Code Pro\", \"Menlo\", monospace;;\n",
       "    font-size: 13px;\n",
       "    color: #555;\n",
       "    margin-left: 4px;\n",
       "    line-height: 19px;\n",
       "  }\n",
       "</style>\n",
       "<div class=\"ansiout\"></div>"
      ]
     },
     "metadata": {},
     "output_type": "display_data"
    }
   ],
   "source": [
    "from pyspark.sql import SQLContext\n",
    "\n",
    "file_location = \"/FileStore/tables/customers.csv\"\n",
    "file_type = \"csv\"\n",
    "\n",
    "# CSV options\n",
    "infer_schema = \"false\"\n",
    "first_row_is_header = \"True\"\n",
    "delimiter = \",\"\n",
    "\n",
    "# The applied options are for CSV files. For other file types, these will be ignored.\n",
    "customers = spark.read.format(file_type) \\\n",
    "  .option(\"inferSchema\", infer_schema) \\\n",
    "  .option(\"header\", first_row_is_header) \\\n",
    "  .option(\"sep\", delimiter) \\\n",
    "  .load(file_location)\n",
    "\n",
    "file_location = \"/FileStore/tables/orders.csv\"\n",
    "file_type = \"csv\"\n",
    "\n",
    "# CSV options\n",
    "infer_schema = \"false\"\n",
    "first_row_is_header = \"True\"\n",
    "delimiter = \",\"\n",
    "\n",
    "# The applied options are for CSV files. For other file types, these will be ignored.\n",
    "orders = spark.read.format(file_type) \\\n",
    "  .option(\"inferSchema\", infer_schema) \\\n",
    "  .option(\"header\", first_row_is_header) \\\n",
    "  .option(\"sep\", delimiter) \\\n",
    "  .load(file_location)\n",
    "\n",
    "file_location = \"/FileStore/tables/order_details.csv\"\n",
    "file_type = \"csv\"\n",
    "\n",
    "# CSV options\n",
    "infer_schema = \"false\"\n",
    "first_row_is_header = \"True\"\n",
    "delimiter = \",\"\n",
    "\n",
    "# The applied options are for CSV files. For other file types, these will be ignored.\n",
    "order_details = spark.read.format(file_type) \\\n",
    "  .option(\"inferSchema\", infer_schema) \\\n",
    "  .option(\"header\", first_row_is_header) \\\n",
    "  .option(\"sep\", delimiter) \\\n",
    "  .load(file_location)"
   ]
  },
  {
   "cell_type": "code",
   "execution_count": 18,
   "metadata": {},
   "outputs": [
    {
     "data": {
      "text/html": [
       "<style scoped>\n",
       "  .ansiout {\n",
       "    display: block;\n",
       "    unicode-bidi: embed;\n",
       "    white-space: pre-wrap;\n",
       "    word-wrap: break-word;\n",
       "    word-break: break-all;\n",
       "    font-family: \"Source Code Pro\", \"Menlo\", monospace;;\n",
       "    font-size: 13px;\n",
       "    color: #555;\n",
       "    margin-left: 4px;\n",
       "    line-height: 19px;\n",
       "  }\n",
       "</style>\n",
       "<div class=\"ansiout\">+-------+----------+-------------+---------+------+\n",
       "OrderID|CustomerID|  ContactName|ProductID| Price|\n",
       "+-------+----------+-------------+---------+------+\n",
       "  10248|     VINET| Paul Henriot|       72| 174.0|\n",
       "  10248|     VINET| Paul Henriot|       42|  98.0|\n",
       "  10248|     VINET| Paul Henriot|       11| 168.0|\n",
       "  10249|     TOMSP|Karin Josephs|       51|1696.0|\n",
       "  10249|     TOMSP|Karin Josephs|       14| 167.4|\n",
       "+-------+----------+-------------+---------+------+\n",
       "only showing top 5 rows\n",
       "\n",
       "</div>"
      ]
     },
     "metadata": {},
     "output_type": "display_data"
    }
   ],
   "source": [
    "temp = customers.join(orders, on=\"CustomerID\")[\"CustomerID\", \"ContactName\", \"OrderID\"]\n",
    "temp = temp.join(order_details, on=\"OrderID\")\n",
    "temp = temp.withColumn(\"Price\" ,temp[\"UnitPrice\"]*temp[\"Quantity\"] - temp[\"Discount\"]/temp[\"Quantity\"]*100)\n",
    "temp = temp.drop(*[\"UnitPrice\", \"Quantity\", \"Discount\"])\n",
    "temp.show(5)"
   ]
  },
  {
   "cell_type": "code",
   "execution_count": 19,
   "metadata": {},
   "outputs": [
    {
     "data": {
      "text/html": [
       "<style scoped>\n",
       "  .ansiout {\n",
       "    display: block;\n",
       "    unicode-bidi: embed;\n",
       "    white-space: pre-wrap;\n",
       "    word-wrap: break-word;\n",
       "    word-break: break-all;\n",
       "    font-family: \"Source Code Pro\", \"Menlo\", monospace;;\n",
       "    font-size: 13px;\n",
       "    color: #555;\n",
       "    margin-left: 4px;\n",
       "    line-height: 19px;\n",
       "  }\n",
       "</style>\n",
       "<div class=\"ansiout\"></div>"
      ]
     },
     "metadata": {},
     "output_type": "display_data"
    }
   ],
   "source": [
    "t1 = temp.groupBy(\"CustomerID\").sum(\"Price\").toPandas().sort_values(\"sum(Price)\", ascending=False).iloc[:10]\n",
    "t2 = temp.groupby(\"CustomerID\").count().toPandas().sort_values(\"count\", ascending=False).iloc[:10]"
   ]
  },
  {
   "cell_type": "code",
   "execution_count": 20,
   "metadata": {},
   "outputs": [
    {
     "data": {
      "text/html": [
       "<div>\n",
       "<style scoped>\n",
       "    .dataframe tbody tr th:only-of-type {\n",
       "        vertical-align: middle;\n",
       "    }\n",
       "\n",
       "    .dataframe tbody tr th {\n",
       "        vertical-align: top;\n",
       "    }\n",
       "\n",
       "    .dataframe thead th {\n",
       "        text-align: right;\n",
       "    }\n",
       "</style>\n",
       "<table border=\"1\" class=\"dataframe\">\n",
       "  <thead>\n",
       "    <tr style=\"text-align: right;\">\n",
       "      <th></th>\n",
       "      <th>CustomerID</th>\n",
       "      <th>sum(Price)</th>\n",
       "      <th>count</th>\n",
       "    </tr>\n",
       "  </thead>\n",
       "  <tbody>\n",
       "    <tr>\n",
       "      <th>0</th>\n",
       "      <td>QUICK</td>\n",
       "      <td>117465.809834</td>\n",
       "      <td>86</td>\n",
       "    </tr>\n",
       "    <tr>\n",
       "      <th>1</th>\n",
       "      <td>SAVEA</td>\n",
       "      <td>115635.206878</td>\n",
       "      <td>116</td>\n",
       "    </tr>\n",
       "    <tr>\n",
       "      <th>2</th>\n",
       "      <td>ERNSH</td>\n",
       "      <td>113209.014551</td>\n",
       "      <td>102</td>\n",
       "    </tr>\n",
       "    <tr>\n",
       "      <th>3</th>\n",
       "      <td>HUNGO</td>\n",
       "      <td>57280.094138</td>\n",
       "      <td>55</td>\n",
       "    </tr>\n",
       "    <tr>\n",
       "      <th>4</th>\n",
       "      <td>RATTC</td>\n",
       "      <td>52206.257341</td>\n",
       "      <td>71</td>\n",
       "    </tr>\n",
       "    <tr>\n",
       "      <th>5</th>\n",
       "      <td>FOLKO</td>\n",
       "      <td>32523.115476</td>\n",
       "      <td>45</td>\n",
       "    </tr>\n",
       "  </tbody>\n",
       "</table>\n",
       "</div>"
      ]
     },
     "metadata": {},
     "output_type": "display_data"
    }
   ],
   "source": [
    "import pandas as pd\n",
    "final_dataframe = pd.merge(t1, t2, how ='inner', on =\"CustomerID\") \n",
    "final_dataframe"
   ]
  },
  {
   "cell_type": "markdown",
   "metadata": {},
   "source": [
    "This is showing that out of 10 customers 6 have the property that they contribute in highest sales and buy most number of products as well."
   ]
  }
 ],
 "metadata": {
  "kernelspec": {
   "display_name": "Python 3",
   "language": "python",
   "name": "python3"
  },
  "language_info": {
   "codemirror_mode": {
    "name": "ipython",
    "version": 3
   },
   "file_extension": ".py",
   "mimetype": "text/x-python",
   "name": "python",
   "nbconvert_exporter": "python",
   "pygments_lexer": "ipython3",
   "version": "3.7.3"
  },
  "name": "assignment 2",
  "notebookId": 3653760475126610
 },
 "nbformat": 4,
 "nbformat_minor": 1
}
